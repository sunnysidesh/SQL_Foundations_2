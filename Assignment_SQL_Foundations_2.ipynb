{
  "nbformat": 4,
  "nbformat_minor": 0,
  "metadata": {
    "colab": {
      "name": "Assignment_SQL Foundations 2.ipynb",
      "provenance": []
    },
    "kernelspec": {
      "name": "python3",
      "display_name": "Python 3"
    }
  },
  "cells": [
    {
      "cell_type": "code",
      "metadata": {
        "id": "l7Sz0Hps1uuH",
        "colab_type": "code",
        "colab": {}
      },
      "source": [
        "# 1. Write a query that returns a list of all the unique vaues in the 'country' field\n",
        "\n",
        "SELECT DISTINCT country\n",
        "FROM ksprojects;"
      ],
      "execution_count": 0,
      "outputs": []
    },
    {
      "cell_type": "code",
      "metadata": {
        "id": "bBx4EqlMl9Wm",
        "colab_type": "code",
        "colab": {}
      },
      "source": [
        "# 2. How many unique values are there for the main_category field?\n",
        "\n",
        "SELECT COUNT(DISTINCT main_category) as count_main_category, COUNT(DISTINCT category) as count_category\n",
        "FROM ksprojects;\n",
        "\n",
        "# Answer: 15 & 158"
      ],
      "execution_count": 0,
      "outputs": []
    },
    {
      "cell_type": "code",
      "metadata": {
        "id": "AI1iy1KHl9Ze",
        "colab_type": "code",
        "colab": {}
      },
      "source": [
        "# 3. Get a list of all the unique combinations of main_category and category fields, sorted A to Z by main_category\n",
        "\n",
        "SELECT DISTINCT main_category, category\n",
        "FROM ksprojects\n",
        "ORDER BY main_category;"
      ],
      "execution_count": 0,
      "outputs": []
    },
    {
      "cell_type": "code",
      "metadata": {
        "id": "-YpGuuw1l9cp",
        "colab_type": "code",
        "colab": {}
      },
      "source": [
        "# 4. How many unique categories are in each main_category?\n",
        "\n",
        "SELECT main_category, COUNT(DISTINCT category)\n",
        "FROM ksprojects\n",
        "GROUP BY main_category\n",
        "ORDER BY main_category;"
      ],
      "execution_count": 0,
      "outputs": []
    },
    {
      "cell_type": "code",
      "metadata": {
        "id": "DfR-0LU9l9e0",
        "colab_type": "code",
        "colab": {}
      },
      "source": [
        "# 5. Write a query that returns the average number of backers per main_category, rounded to the nearest whole number and sorted from high to low\n",
        "\n",
        "SELECT main_category, round(AVG(backers),0) as avg_backers\n",
        "FROM ksprojects\n",
        "GROUP BY main_category\n",
        "ORDER BY avg_backers DESC;"
      ],
      "execution_count": 0,
      "outputs": []
    },
    {
      "cell_type": "code",
      "metadata": {
        "id": "4AldRM23l9kL",
        "colab_type": "code",
        "colab": {}
      },
      "source": [
        "# 6. Write a query that shows, for each category, how many campaigns were successful and the average difference per project between dollars pledged and the goal\n",
        "\n",
        "SELECT category, avg(usd_pledged - goal) as raised_over_goal, count(*)\n",
        "FROM ksprojects\n",
        "WHERE state = 'successful'\n",
        "GROUP BY category;"
      ],
      "execution_count": 0,
      "outputs": []
    },
    {
      "cell_type": "code",
      "metadata": {
        "id": "06jLljlZl9md",
        "colab_type": "code",
        "colab": {}
      },
      "source": [
        "# 7. Write a query that shows, for each main category, how many projects had zero backers for that category and the largest goal amount for that category (also for projects with zero backers)\n",
        "\n",
        "SELECT main_category, MAX(goal), COUNT(*)\n",
        "FROM ksprojects\n",
        "WHERE backers = 0\n",
        "GROUP BY main_category;"
      ],
      "execution_count": 0,
      "outputs": []
    },
    {
      "cell_type": "code",
      "metadata": {
        "id": "26SZJYaVl9pA",
        "colab_type": "code",
        "colab": {}
      },
      "source": [
        "# 8. For each category, find the average USD per backer, and return only those results for which the average USD per backer is < $50, sorted high to low\n",
        "# HINT: Division by NULL is not possible, so use NULLIF to replace NULLs with 0 in the average calculation\n",
        "\n",
        "SELECT category, avg(usd_pledged/NULLIF(backers, 0)) as avg_pledge_per_backer\n",
        "FROM ksprojects\n",
        "GROUP BY category\n",
        "HAVING avg(usd_pledged/NULLIF(backers, 0)) < 50\n",
        "ORDER BY avg_pledge_per_backer DESC;\n"
      ],
      "execution_count": 0,
      "outputs": []
    },
    {
      "cell_type": "code",
      "metadata": {
        "id": "2RDOkyLTl9rR",
        "colab_type": "code",
        "colab": {}
      },
      "source": [
        "# 9. Write a query that shows, for each main_category, how many successful projects had between 5 and 10 backers\n",
        "\n",
        "SELECT main_category, COUNT(*)\n",
        "FROM ksprojects\n",
        "WHERE state = 'successful' AND backers BETWEEN 5 AND 10\n",
        "GROUP BY main_category;"
      ],
      "execution_count": 0,
      "outputs": []
    },
    {
      "cell_type": "code",
      "metadata": {
        "id": "hlk8HUyol9ts",
        "colab_type": "code",
        "colab": {}
      },
      "source": [
        "# 10. Get a total of the amount 'pledged' for each type of currency grouped by its respective currency. Sort by 'pledged' from high to low\n",
        "\n",
        "SELECT currency, SUM(pledged)\n",
        "FROM ksprojects\n",
        "GROUP BY currency\n",
        "ORDER BY SUM(pledged) DESC;"
      ],
      "execution_count": 0,
      "outputs": []
    },
    {
      "cell_type": "code",
      "metadata": {
        "id": "I_zg4RSUl-4p",
        "colab_type": "code",
        "colab": {}
      },
      "source": [
        "# 11. Excluding Games and Technology records in the main_category field, return the total of all backers for successful projects by main_category where the total was more than 100,000.\n",
        "# Sort by main_category from A to Z\n",
        "\n",
        "SELECT main_category, SUM(backers)\n",
        "FROM ksprojects\n",
        "WHERE main_category NOT IN('Games', 'Technology') and state = 'successful'\n",
        "GROUP BY main_category\n",
        "HAVING SUM(backers) > 100000\n",
        "ORDER BY main_category;"
      ],
      "execution_count": 0,
      "outputs": []
    }
  ]
}